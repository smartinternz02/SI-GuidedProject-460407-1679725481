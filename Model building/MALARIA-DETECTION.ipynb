{
 "cells": [
  {
   "cell_type": "code",
   "execution_count": 1,
   "id": "855d7539",
   "metadata": {},
   "outputs": [],
   "source": [
    "from tensorflow.keras.layers import Input, Lambda, Dense, Flatten,Conv2D\n",
    "from tensorflow.keras.models import Model\n",
    "from tensorflow.keras.applications.vgg19 import VGG19\n",
    "from tensorflow.keras.applications.resnet50 import preprocess_input\n",
    "from tensorflow.keras.preprocessing import image\n",
    "from tensorflow.keras.preprocessing.image import ImageDataGenerator,load_img\n",
    "from tensorflow.keras.models import Sequential\n",
    "import numpy as np\n",
    "from glob import glob\n",
    "import matplotlib.pyplot as plt"
   ]
  },
  {
   "cell_type": "code",
   "execution_count": 2,
   "id": "4389e2c0",
   "metadata": {},
   "outputs": [],
   "source": [
    "# re-size all the images to this\n",
    "IMAGE_SIZE = [224, 224]\n",
    "\n",
    "train_path = 'cell_images/Train'\n",
    "valid_path = 'cell_images/Test'"
   ]
  },
  {
   "cell_type": "code",
   "execution_count": 3,
   "id": "8cb17322",
   "metadata": {},
   "outputs": [
    {
     "name": "stdout",
     "output_type": "stream",
     "text": [
      "Downloading data from https://storage.googleapis.com/tensorflow/keras-applications/vgg19/vgg19_weights_tf_dim_ordering_tf_kernels_notop.h5\n",
      "80134624/80134624 [==============================] - 505s 6us/step\n"
     ]
    }
   ],
   "source": [
    "# Import the Vgg 16 library as shown below and add preprocessing layer to the front of VGG\n",
    "# Here we will be using imagenet weights\n",
    "\n",
    "mobilnet = VGG19(input_shape=IMAGE_SIZE + [3], weights='imagenet', include_top=False)\n"
   ]
  },
  {
   "cell_type": "code",
   "execution_count": 4,
   "id": "7e131a51",
   "metadata": {},
   "outputs": [],
   "source": [
    "# don't train existing weights\n",
    "for layer in mobilnet.layers:\n",
    "    layer.trainable = False"
   ]
  },
  {
   "cell_type": "code",
   "execution_count": 17,
   "id": "6e818ab5",
   "metadata": {},
   "outputs": [],
   "source": [
    "# useful for getting number of output classes\n",
    "folders = glob('C:/Users/jagad/OneDrive/Desktop/data/Train/*')\n"
   ]
  },
  {
   "cell_type": "code",
   "execution_count": 18,
   "id": "e5aaa57d",
   "metadata": {},
   "outputs": [
    {
     "data": {
      "text/plain": [
       "['C:/Users/jagad/OneDrive/Desktop/data/Train\\\\Parasite',\n",
       " 'C:/Users/jagad/OneDrive/Desktop/data/Train\\\\Uninfected']"
      ]
     },
     "execution_count": 18,
     "metadata": {},
     "output_type": "execute_result"
    }
   ],
   "source": [
    "folders\n"
   ]
  },
  {
   "cell_type": "code",
   "execution_count": 19,
   "id": "fd935a3a",
   "metadata": {},
   "outputs": [],
   "source": [
    "# our layers - you can add more if you want\n",
    "x = Flatten()(mobilnet.output)"
   ]
  },
  {
   "cell_type": "code",
   "execution_count": 20,
   "id": "957b750b",
   "metadata": {},
   "outputs": [],
   "source": [
    "prediction = Dense(len(folders), activation='softmax')(x)\n",
    "\n",
    "# create a model object\n",
    "model = Model(inputs=mobilnet.input, outputs=prediction)"
   ]
  },
  {
   "cell_type": "code",
   "execution_count": 21,
   "id": "2da1db9a",
   "metadata": {},
   "outputs": [
    {
     "name": "stdout",
     "output_type": "stream",
     "text": [
      "Model: \"model\"\n",
      "_________________________________________________________________\n",
      " Layer (type)                Output Shape              Param #   \n",
      "=================================================================\n",
      " input_1 (InputLayer)        [(None, 224, 224, 3)]     0         \n",
      "                                                                 \n",
      " block1_conv1 (Conv2D)       (None, 224, 224, 64)      1792      \n",
      "                                                                 \n",
      " block1_conv2 (Conv2D)       (None, 224, 224, 64)      36928     \n",
      "                                                                 \n",
      " block1_pool (MaxPooling2D)  (None, 112, 112, 64)      0         \n",
      "                                                                 \n",
      " block2_conv1 (Conv2D)       (None, 112, 112, 128)     73856     \n",
      "                                                                 \n",
      " block2_conv2 (Conv2D)       (None, 112, 112, 128)     147584    \n",
      "                                                                 \n",
      " block2_pool (MaxPooling2D)  (None, 56, 56, 128)       0         \n",
      "                                                                 \n",
      " block3_conv1 (Conv2D)       (None, 56, 56, 256)       295168    \n",
      "                                                                 \n",
      " block3_conv2 (Conv2D)       (None, 56, 56, 256)       590080    \n",
      "                                                                 \n",
      " block3_conv3 (Conv2D)       (None, 56, 56, 256)       590080    \n",
      "                                                                 \n",
      " block3_conv4 (Conv2D)       (None, 56, 56, 256)       590080    \n",
      "                                                                 \n",
      " block3_pool (MaxPooling2D)  (None, 28, 28, 256)       0         \n",
      "                                                                 \n",
      " block4_conv1 (Conv2D)       (None, 28, 28, 512)       1180160   \n",
      "                                                                 \n",
      " block4_conv2 (Conv2D)       (None, 28, 28, 512)       2359808   \n",
      "                                                                 \n",
      " block4_conv3 (Conv2D)       (None, 28, 28, 512)       2359808   \n",
      "                                                                 \n",
      " block4_conv4 (Conv2D)       (None, 28, 28, 512)       2359808   \n",
      "                                                                 \n",
      " block4_pool (MaxPooling2D)  (None, 14, 14, 512)       0         \n",
      "                                                                 \n",
      " block5_conv1 (Conv2D)       (None, 14, 14, 512)       2359808   \n",
      "                                                                 \n",
      " block5_conv2 (Conv2D)       (None, 14, 14, 512)       2359808   \n",
      "                                                                 \n",
      " block5_conv3 (Conv2D)       (None, 14, 14, 512)       2359808   \n",
      "                                                                 \n",
      " block5_conv4 (Conv2D)       (None, 14, 14, 512)       2359808   \n",
      "                                                                 \n",
      " block5_pool (MaxPooling2D)  (None, 7, 7, 512)         0         \n",
      "                                                                 \n",
      " flatten (Flatten)           (None, 25088)             0         \n",
      "                                                                 \n",
      " dense (Dense)               (None, 2)                 50178     \n",
      "                                                                 \n",
      "=================================================================\n",
      "Total params: 20,074,562\n",
      "Trainable params: 50,178\n",
      "Non-trainable params: 20,024,384\n",
      "_________________________________________________________________\n"
     ]
    }
   ],
   "source": [
    "# view the structure of the model\n",
    "model.summary()"
   ]
  },
  {
   "cell_type": "code",
   "execution_count": 22,
   "id": "fc180b58",
   "metadata": {},
   "outputs": [],
   "source": [
    "from tensorflow.keras.layers import MaxPooling2D"
   ]
  },
  {
   "cell_type": "code",
   "execution_count": 23,
   "id": "9bdb99ab",
   "metadata": {},
   "outputs": [
    {
     "name": "stdout",
     "output_type": "stream",
     "text": [
      "Model: \"sequential\"\n",
      "_________________________________________________________________\n",
      " Layer (type)                Output Shape              Param #   \n",
      "=================================================================\n",
      " conv2d (Conv2D)             (None, 224, 224, 16)      208       \n",
      "                                                                 \n",
      " max_pooling2d (MaxPooling2D  (None, 112, 112, 16)     0         \n",
      " )                                                               \n",
      "                                                                 \n",
      " conv2d_1 (Conv2D)           (None, 112, 112, 32)      2080      \n",
      "                                                                 \n",
      " max_pooling2d_1 (MaxPooling  (None, 56, 56, 32)       0         \n",
      " 2D)                                                             \n",
      "                                                                 \n",
      " conv2d_2 (Conv2D)           (None, 56, 56, 64)        8256      \n",
      "                                                                 \n",
      " max_pooling2d_2 (MaxPooling  (None, 28, 28, 64)       0         \n",
      " 2D)                                                             \n",
      "                                                                 \n",
      " flatten_1 (Flatten)         (None, 50176)             0         \n",
      "                                                                 \n",
      " dense_1 (Dense)             (None, 500)               25088500  \n",
      "                                                                 \n",
      " dense_2 (Dense)             (None, 2)                 1002      \n",
      "                                                                 \n",
      "=================================================================\n",
      "Total params: 25,100,046\n",
      "Trainable params: 25,100,046\n",
      "Non-trainable params: 0\n",
      "_________________________________________________________________\n"
     ]
    }
   ],
   "source": [
    "### Create Model from scratch using CNN\n",
    "model=Sequential()\n",
    "model.add(Conv2D(filters=16,kernel_size=2,padding=\"same\",activation=\"relu\",input_shape=(224,224,3)))\n",
    "model.add(MaxPooling2D(pool_size=2))\n",
    "model.add(Conv2D(filters=32,kernel_size=2,padding=\"same\",activation =\"relu\"))\n",
    "model.add(MaxPooling2D(pool_size=2))\n",
    "model.add(Conv2D(filters=64,kernel_size=2,padding=\"same\",activation=\"relu\"))\n",
    "model.add(MaxPooling2D(pool_size=2))\n",
    "model.add(Flatten())\n",
    "model.add(Dense(500,activation=\"relu\"))\n",
    "model.add(Dense(2,activation=\"softmax\"))\n",
    "model.summary()"
   ]
  },
  {
   "cell_type": "code",
   "execution_count": 24,
   "id": "694c6eb9",
   "metadata": {},
   "outputs": [],
   "source": [
    "# tell the model what cost and optimization method to use\n",
    "model.compile(\n",
    "  loss='categorical_crossentropy',\n",
    "  optimizer='adam',\n",
    "  metrics=['accuracy']\n",
    ")"
   ]
  },
  {
   "cell_type": "code",
   "execution_count": 25,
   "id": "a7e58196",
   "metadata": {},
   "outputs": [],
   "source": [
    "# Use the Image Data Generator to import the images from the dataset\n",
    "from tensorflow.keras.preprocessing.image import ImageDataGenerator\n",
    "\n",
    "train_datagen = ImageDataGenerator(rescale = 1./255,\n",
    "                                   shear_range = 0.2,\n",
    "                                   zoom_range = 0.2,\n",
    "                                   horizontal_flip = True)\n",
    "\n",
    "test_datagen = ImageDataGenerator(rescale = 1./255)"
   ]
  },
  {
   "cell_type": "code",
   "execution_count": 27,
   "id": "98bfeaee",
   "metadata": {},
   "outputs": [
    {
     "name": "stdout",
     "output_type": "stream",
     "text": [
      "Found 416 images belonging to 2 classes.\n"
     ]
    }
   ],
   "source": [
    "\n",
    "# Make sure you provide the same target size as initialied for the image size\n",
    "training_set = train_datagen.flow_from_directory('C:/Users/jagad/OneDrive/Desktop/data/Train',\n",
    "                                                 target_size = (224, 224),\n",
    "                                                 batch_size = 32,\n",
    "                                                 class_mode = 'categorical')"
   ]
  },
  {
   "cell_type": "code",
   "execution_count": 28,
   "id": "ea46bea8",
   "metadata": {},
   "outputs": [
    {
     "data": {
      "text/plain": [
       "<keras.preprocessing.image.DirectoryIterator at 0x1e55871e3e0>"
      ]
     },
     "execution_count": 28,
     "metadata": {},
     "output_type": "execute_result"
    }
   ],
   "source": [
    "training_set"
   ]
  },
  {
   "cell_type": "code",
   "execution_count": 30,
   "id": "428ce7e8",
   "metadata": {},
   "outputs": [
    {
     "name": "stdout",
     "output_type": "stream",
     "text": [
      "Found 134 images belonging to 2 classes.\n"
     ]
    }
   ],
   "source": [
    "test_set = test_datagen.flow_from_directory('C:/Users/jagad/OneDrive/Desktop/data/Test',\n",
    "                                            target_size = (224, 224),\n",
    "                                            batch_size = 32,\n",
    "                                            class_mode = 'categorical')"
   ]
  },
  {
   "cell_type": "code",
   "execution_count": 32,
   "id": "288e2787",
   "metadata": {},
   "outputs": [
    {
     "name": "stdout",
     "output_type": "stream",
     "text": [
      "Epoch 1/50\n",
      "13/13 [==============================] - 22s 2s/step - loss: 1.7107 - accuracy: 0.5409 - val_loss: 0.6851 - val_accuracy: 0.6791\n",
      "Epoch 2/50\n",
      "13/13 [==============================] - 19s 1s/step - loss: 0.5872 - accuracy: 0.7067 - val_loss: 0.8136 - val_accuracy: 0.3209\n",
      "Epoch 3/50\n",
      "13/13 [==============================] - 13s 954ms/step - loss: 0.4800 - accuracy: 0.7548 - val_loss: 1.0075 - val_accuracy: 0.3060\n",
      "Epoch 4/50\n",
      "13/13 [==============================] - 11s 842ms/step - loss: 0.4613 - accuracy: 0.7812 - val_loss: 0.7416 - val_accuracy: 0.4925\n",
      "Epoch 5/50\n",
      "13/13 [==============================] - 11s 844ms/step - loss: 0.4268 - accuracy: 0.8005 - val_loss: 0.6685 - val_accuracy: 0.5448\n",
      "Epoch 6/50\n",
      "13/13 [==============================] - 11s 851ms/step - loss: 0.3765 - accuracy: 0.8510 - val_loss: 0.7902 - val_accuracy: 0.5224\n",
      "Epoch 7/50\n",
      "13/13 [==============================] - 11s 835ms/step - loss: 0.3480 - accuracy: 0.8606 - val_loss: 0.6378 - val_accuracy: 0.6194\n",
      "Epoch 8/50\n",
      "13/13 [==============================] - 12s 889ms/step - loss: 0.3066 - accuracy: 0.8702 - val_loss: 0.6698 - val_accuracy: 0.6269\n",
      "Epoch 9/50\n",
      "13/13 [==============================] - 11s 853ms/step - loss: 0.2658 - accuracy: 0.8942 - val_loss: 0.9348 - val_accuracy: 0.6045\n",
      "Epoch 10/50\n",
      "13/13 [==============================] - 11s 855ms/step - loss: 0.2346 - accuracy: 0.9231 - val_loss: 0.5012 - val_accuracy: 0.7388\n",
      "Epoch 11/50\n",
      "13/13 [==============================] - 11s 840ms/step - loss: 0.1890 - accuracy: 0.9303 - val_loss: 0.4402 - val_accuracy: 0.7388\n",
      "Epoch 12/50\n",
      "13/13 [==============================] - 11s 845ms/step - loss: 0.1790 - accuracy: 0.9495 - val_loss: 0.4392 - val_accuracy: 0.7761\n",
      "Epoch 13/50\n",
      "13/13 [==============================] - 11s 840ms/step - loss: 0.1598 - accuracy: 0.9423 - val_loss: 0.5664 - val_accuracy: 0.7313\n",
      "Epoch 14/50\n",
      "13/13 [==============================] - 12s 869ms/step - loss: 0.1588 - accuracy: 0.9447 - val_loss: 0.5256 - val_accuracy: 0.7537\n",
      "Epoch 15/50\n",
      "13/13 [==============================] - 11s 848ms/step - loss: 0.1497 - accuracy: 0.9543 - val_loss: 0.3060 - val_accuracy: 0.8582\n",
      "Epoch 16/50\n",
      "13/13 [==============================] - 11s 839ms/step - loss: 0.1345 - accuracy: 0.9591 - val_loss: 0.4335 - val_accuracy: 0.7910\n",
      "Epoch 17/50\n",
      "13/13 [==============================] - 11s 842ms/step - loss: 0.1113 - accuracy: 0.9688 - val_loss: 0.3674 - val_accuracy: 0.8284\n",
      "Epoch 18/50\n",
      "13/13 [==============================] - 11s 869ms/step - loss: 0.1607 - accuracy: 0.9519 - val_loss: 0.2570 - val_accuracy: 0.9030\n",
      "Epoch 19/50\n",
      "13/13 [==============================] - 11s 843ms/step - loss: 0.1295 - accuracy: 0.9712 - val_loss: 0.5043 - val_accuracy: 0.7910\n",
      "Epoch 20/50\n",
      "13/13 [==============================] - 11s 862ms/step - loss: 0.0997 - accuracy: 0.9615 - val_loss: 0.2960 - val_accuracy: 0.8731\n",
      "Epoch 21/50\n",
      "13/13 [==============================] - 11s 850ms/step - loss: 0.1272 - accuracy: 0.9663 - val_loss: 0.2325 - val_accuracy: 0.9328\n",
      "Epoch 22/50\n",
      "13/13 [==============================] - 11s 840ms/step - loss: 0.1373 - accuracy: 0.9567 - val_loss: 0.3807 - val_accuracy: 0.8433\n",
      "Epoch 23/50\n",
      "13/13 [==============================] - 12s 870ms/step - loss: 0.1234 - accuracy: 0.9567 - val_loss: 0.4678 - val_accuracy: 0.7985\n",
      "Epoch 24/50\n",
      "13/13 [==============================] - 11s 847ms/step - loss: 0.1211 - accuracy: 0.9495 - val_loss: 0.2232 - val_accuracy: 0.9030\n",
      "Epoch 25/50\n",
      "13/13 [==============================] - 11s 849ms/step - loss: 0.1127 - accuracy: 0.9784 - val_loss: 0.3683 - val_accuracy: 0.8433\n",
      "Epoch 26/50\n",
      "13/13 [==============================] - 11s 837ms/step - loss: 0.0733 - accuracy: 0.9736 - val_loss: 0.2281 - val_accuracy: 0.9030\n",
      "Epoch 27/50\n",
      "13/13 [==============================] - 12s 883ms/step - loss: 0.0730 - accuracy: 0.9688 - val_loss: 0.5211 - val_accuracy: 0.7985\n",
      "Epoch 28/50\n",
      "13/13 [==============================] - 12s 881ms/step - loss: 0.1386 - accuracy: 0.9663 - val_loss: 0.2521 - val_accuracy: 0.8881\n",
      "Epoch 29/50\n",
      "13/13 [==============================] - 12s 869ms/step - loss: 0.0741 - accuracy: 0.9784 - val_loss: 0.4664 - val_accuracy: 0.8433\n",
      "Epoch 30/50\n",
      "13/13 [==============================] - 11s 842ms/step - loss: 0.0768 - accuracy: 0.9760 - val_loss: 0.4253 - val_accuracy: 0.8433\n",
      "Epoch 31/50\n",
      "13/13 [==============================] - 12s 929ms/step - loss: 0.0790 - accuracy: 0.9760 - val_loss: 0.3957 - val_accuracy: 0.8507\n",
      "Epoch 32/50\n",
      "13/13 [==============================] - 14s 1s/step - loss: 0.0934 - accuracy: 0.9760 - val_loss: 0.3069 - val_accuracy: 0.8881\n",
      "Epoch 33/50\n",
      "13/13 [==============================] - 12s 906ms/step - loss: 0.0656 - accuracy: 0.9760 - val_loss: 0.3910 - val_accuracy: 0.8657\n",
      "Epoch 34/50\n",
      "13/13 [==============================] - 11s 833ms/step - loss: 0.0693 - accuracy: 0.9784 - val_loss: 0.2022 - val_accuracy: 0.9254\n",
      "Epoch 35/50\n",
      "13/13 [==============================] - 11s 856ms/step - loss: 0.0499 - accuracy: 0.9904 - val_loss: 0.2907 - val_accuracy: 0.9104\n",
      "Epoch 36/50\n",
      "13/13 [==============================] - 12s 863ms/step - loss: 0.0958 - accuracy: 0.9688 - val_loss: 0.2289 - val_accuracy: 0.9030\n",
      "Epoch 37/50\n",
      "13/13 [==============================] - 11s 833ms/step - loss: 0.0559 - accuracy: 0.9904 - val_loss: 0.3127 - val_accuracy: 0.8806\n",
      "Epoch 38/50\n",
      "13/13 [==============================] - 11s 825ms/step - loss: 0.0495 - accuracy: 0.9808 - val_loss: 0.2633 - val_accuracy: 0.9179\n",
      "Epoch 39/50\n",
      "13/13 [==============================] - 11s 852ms/step - loss: 0.0315 - accuracy: 0.9928 - val_loss: 0.5569 - val_accuracy: 0.8507\n",
      "Epoch 40/50\n",
      "13/13 [==============================] - 12s 880ms/step - loss: 0.0801 - accuracy: 0.9712 - val_loss: 0.3088 - val_accuracy: 0.8955\n",
      "Epoch 41/50\n",
      "13/13 [==============================] - 11s 827ms/step - loss: 0.0576 - accuracy: 0.9904 - val_loss: 0.4524 - val_accuracy: 0.8731\n",
      "Epoch 42/50\n",
      "13/13 [==============================] - 11s 843ms/step - loss: 0.0626 - accuracy: 0.9832 - val_loss: 0.1937 - val_accuracy: 0.9403\n",
      "Epoch 43/50\n",
      "13/13 [==============================] - 11s 829ms/step - loss: 0.0746 - accuracy: 0.9784 - val_loss: 0.2570 - val_accuracy: 0.8955\n",
      "Epoch 44/50\n",
      "13/13 [==============================] - 11s 836ms/step - loss: 0.0605 - accuracy: 0.9904 - val_loss: 0.3039 - val_accuracy: 0.8955\n",
      "Epoch 45/50\n",
      "13/13 [==============================] - 11s 839ms/step - loss: 0.0952 - accuracy: 0.9639 - val_loss: 0.2869 - val_accuracy: 0.8881\n",
      "Epoch 46/50\n",
      "13/13 [==============================] - 11s 848ms/step - loss: 0.0623 - accuracy: 0.9856 - val_loss: 0.2523 - val_accuracy: 0.9104\n",
      "Epoch 47/50\n",
      "13/13 [==============================] - 11s 838ms/step - loss: 0.0399 - accuracy: 0.9856 - val_loss: 0.4375 - val_accuracy: 0.8731\n",
      "Epoch 48/50\n",
      "13/13 [==============================] - 11s 830ms/step - loss: 0.0418 - accuracy: 0.9904 - val_loss: 0.3073 - val_accuracy: 0.9104\n",
      "Epoch 49/50\n",
      "13/13 [==============================] - 11s 839ms/step - loss: 0.0478 - accuracy: 0.9856 - val_loss: 0.2658 - val_accuracy: 0.8955\n",
      "Epoch 50/50\n",
      "13/13 [==============================] - 12s 877ms/step - loss: 0.0212 - accuracy: 0.9952 - val_loss: 0.2424 - val_accuracy: 0.9328\n"
     ]
    }
   ],
   "source": [
    "# fit the model\n",
    "# Run the cell. It will take some time to execute\n",
    "r = model.fit(\n",
    "  training_set,\n",
    "  validation_data=test_set,\n",
    "  epochs=50,\n",
    "  steps_per_epoch=len(training_set),\n",
    "  validation_steps=len(test_set)\n",
    ")"
   ]
  },
  {
   "cell_type": "code",
   "execution_count": 33,
   "id": "64748805",
   "metadata": {},
   "outputs": [
    {
     "data": {
      "image/png": "[encoded data removed]",
      "text/plain": [
       "<Figure size 640x480 with 1 Axes>"
      ]
     },
     "metadata": {},
     "output_type": "display_data"
    },
    {
     "data": {
      "image/png": "[encoded data removed]",
      "text/plain": [
       "<Figure size 640x480 with 1 Axes>"
      ]
     },
     "metadata": {},
     "output_type": "display_data"
    },
    {
     "data": {
      "text/plain": [
       "<Figure size 640x480 with 0 Axes>"
      ]
     },
     "metadata": {},
     "output_type": "display_data"
    }
   ],
   "source": [
    "# plot the loss\n",
    "plt.plot(r.history['loss'], label='train loss')\n",
    "plt.plot(r.history['val_loss'], label='val loss')\n",
    "plt.legend()\n",
    "plt.show()\n",
    "plt.savefig('LossVal_loss')\n",
    "\n",
    "# plot the accuracy\n",
    "plt.plot(r.history['accuracy'], label='train acc')\n",
    "plt.plot(r.history['val_accuracy'], label='val acc')\n",
    "plt.legend()\n",
    "plt.show()\n",
    "plt.savefig('AccVal_acc')"
   ]
  },
  {
   "cell_type": "code",
   "execution_count": 34,
   "id": "ccc9dbaf",
   "metadata": {},
   "outputs": [],
   "source": [
    "# save it as a h5 file\n",
    "\n",
    "\n",
    "from tensorflow.keras.models import load_model\n",
    "\n",
    "model.save('model_vgg19.h5')"
   ]
  },
  {
   "cell_type": "code",
   "execution_count": 35,
   "id": "3f706bb2",
   "metadata": {},
   "outputs": [
    {
     "name": "stdout",
     "output_type": "stream",
     "text": [
      "5/5 [==============================] - 1s 91ms/step\n"
     ]
    }
   ],
   "source": [
    "y_pred = model.predict(test_set)"
   ]
  },
  {
   "cell_type": "code",
   "execution_count": 36,
   "id": "a4bb63b0",
   "metadata": {},
   "outputs": [
    {
     "data": {
      "text/plain": [
       "array([[9.99992013e-01, 7.93692561e-06],\n",
       "       [9.99997616e-01, 2.34283675e-06],\n",
       "       [1.00000000e+00, 2.21716654e-08],\n",
       "       [9.97531652e-01, 2.46833870e-03],\n",
       "       [9.99998569e-01, 1.41277735e-06],\n",
       "       [6.80219233e-02, 9.31978106e-01],\n",
       "       [9.99966145e-01, 3.38439822e-05],\n",
       "       [1.44085586e-02, 9.85591412e-01],\n",
       "       [1.00000000e+00, 2.22002194e-09],\n",
       "       [9.99931812e-01, 6.81527454e-05],\n",
       "       [9.99996901e-01, 3.04881883e-06],\n",
       "       [1.00000000e+00, 1.14904364e-10],\n",
       "       [1.95918512e-02, 9.80408072e-01],\n",
       "       [1.00000000e+00, 1.47210864e-15],\n",
       "       [1.01813562e-01, 8.98186445e-01],\n",
       "       [9.99856353e-01, 1.43577534e-04],\n",
       "       [9.99996901e-01, 3.05310482e-06],\n",
       "       [1.53075550e-02, 9.84692454e-01],\n",
       "       [1.21395634e-02, 9.87860501e-01],\n",
       "       [4.19730037e-01, 5.80269992e-01],\n",
       "       [1.00000000e+00, 7.78658214e-12],\n",
       "       [9.95523214e-01, 4.47681313e-03],\n",
       "       [9.99700189e-01, 2.99784355e-04],\n",
       "       [9.99998927e-01, 1.07311530e-06],\n",
       "       [1.00000000e+00, 1.38945265e-13],\n",
       "       [9.99995232e-01, 4.73965929e-06],\n",
       "       [5.26922382e-02, 9.47307765e-01],\n",
       "       [1.00000000e+00, 1.64896292e-27],\n",
       "       [9.99989390e-01, 1.06230209e-05],\n",
       "       [1.00000000e+00, 5.69828318e-09],\n",
       "       [1.00000000e+00, 2.79155932e-29],\n",
       "       [3.43787335e-02, 9.65621293e-01],\n",
       "       [4.08871695e-02, 9.59112823e-01],\n",
       "       [6.82280445e-03, 9.93177176e-01],\n",
       "       [8.34652662e-01, 1.65347338e-01],\n",
       "       [1.00000000e+00, 1.28960202e-11],\n",
       "       [1.00000000e+00, 4.30363905e-08],\n",
       "       [1.00000000e+00, 5.14231004e-08],\n",
       "       [9.99263346e-01, 7.36646820e-04],\n",
       "       [1.00000000e+00, 2.71079490e-15],\n",
       "       [2.32559323e-01, 7.67440677e-01],\n",
       "       [1.00000000e+00, 1.53668935e-11],\n",
       "       [9.99999881e-01, 1.65229778e-07],\n",
       "       [1.00000000e+00, 2.87502630e-28],\n",
       "       [9.99954104e-01, 4.59044313e-05],\n",
       "       [1.06071774e-02, 9.89392877e-01],\n",
       "       [1.36273457e-02, 9.86372650e-01],\n",
       "       [1.00000000e+00, 2.32941999e-11],\n",
       "       [9.99532223e-01, 4.67762788e-04],\n",
       "       [1.24011068e-02, 9.87598956e-01],\n",
       "       [1.00000000e+00, 3.99506987e-08],\n",
       "       [1.00000000e+00, 5.77551505e-12],\n",
       "       [2.01039799e-02, 9.79896069e-01],\n",
       "       [1.00000000e+00, 5.66944580e-09],\n",
       "       [9.99999642e-01, 3.79268585e-07],\n",
       "       [5.54796727e-03, 9.94452059e-01],\n",
       "       [3.71106714e-01, 6.28893256e-01],\n",
       "       [1.55010205e-02, 9.84499037e-01],\n",
       "       [6.59400225e-03, 9.93405938e-01],\n",
       "       [1.00000000e+00, 2.84464559e-08],\n",
       "       [8.40847474e-03, 9.91591454e-01],\n",
       "       [2.14240011e-02, 9.78576005e-01],\n",
       "       [2.41661887e-03, 9.97583389e-01],\n",
       "       [9.46894348e-01, 5.31057008e-02],\n",
       "       [9.73786414e-01, 2.62136422e-02],\n",
       "       [9.99999881e-01, 1.27780908e-07],\n",
       "       [3.14936340e-02, 9.68506336e-01],\n",
       "       [1.00000000e+00, 2.97973610e-08],\n",
       "       [9.99999881e-01, 1.47087547e-07],\n",
       "       [9.99992847e-01, 7.09685173e-06],\n",
       "       [9.99994278e-01, 5.75359763e-06],\n",
       "       [1.00000000e+00, 3.60591396e-12],\n",
       "       [9.99999285e-01, 7.02779175e-07],\n",
       "       [3.45866405e-03, 9.96541321e-01],\n",
       "       [9.97600257e-01, 2.39974167e-03],\n",
       "       [4.31475975e-02, 9.56852376e-01],\n",
       "       [1.00000000e+00, 5.50560008e-28],\n",
       "       [6.77471399e-01, 3.22528571e-01],\n",
       "       [1.00000000e+00, 4.37721006e-08],\n",
       "       [1.00000000e+00, 3.93025152e-12],\n",
       "       [1.00000000e+00, 1.15595687e-14],\n",
       "       [9.83615890e-02, 9.01638448e-01],\n",
       "       [9.99996424e-01, 3.58785519e-06],\n",
       "       [1.42441159e-02, 9.85755861e-01],\n",
       "       [6.87956586e-02, 9.31204319e-01],\n",
       "       [7.48310285e-03, 9.92516935e-01],\n",
       "       [7.09799752e-02, 9.29020047e-01],\n",
       "       [2.14344449e-02, 9.78565514e-01],\n",
       "       [1.00000000e+00, 2.96446991e-08],\n",
       "       [5.41202072e-03, 9.94588017e-01],\n",
       "       [3.86194319e-01, 6.13805652e-01],\n",
       "       [1.00000000e+00, 5.44022105e-10],\n",
       "       [9.12995160e-01, 8.70048553e-02],\n",
       "       [3.05318117e-01, 6.94681942e-01],\n",
       "       [9.99997735e-01, 2.22400195e-06],\n",
       "       [1.00000000e+00, 1.01323199e-08],\n",
       "       [9.99986529e-01, 1.34907687e-05],\n",
       "       [4.64542117e-03, 9.95354652e-01],\n",
       "       [9.99999881e-01, 7.23967091e-08],\n",
       "       [9.99982238e-01, 1.78046830e-05],\n",
       "       [9.99996662e-01, 3.28043257e-06],\n",
       "       [9.58804369e-01, 4.11956608e-02],\n",
       "       [2.77087241e-02, 9.72291231e-01],\n",
       "       [1.13595249e-02, 9.88640547e-01],\n",
       "       [9.99997973e-01, 2.06014647e-06],\n",
       "       [9.99999285e-01, 7.31865555e-07],\n",
       "       [1.65186618e-02, 9.83481348e-01],\n",
       "       [1.00000000e+00, 1.86370385e-12],\n",
       "       [9.99999762e-01, 2.87239800e-07],\n",
       "       [9.99987125e-01, 1.28857764e-05],\n",
       "       [9.56068411e-02, 9.04393137e-01],\n",
       "       [9.99998689e-01, 1.35268442e-06],\n",
       "       [1.00000000e+00, 1.72539226e-18],\n",
       "       [2.29713507e-02, 9.77028668e-01],\n",
       "       [9.99996424e-01, 3.53647397e-06],\n",
       "       [1.12418626e-02, 9.88758087e-01],\n",
       "       [1.85497820e-01, 8.14502120e-01],\n",
       "       [6.92193210e-02, 9.30780709e-01],\n",
       "       [1.00000000e+00, 9.12378788e-13],\n",
       "       [1.00000000e+00, 1.03523993e-12],\n",
       "       [6.49771327e-03, 9.93502319e-01],\n",
       "       [9.99998450e-01, 1.53353176e-06],\n",
       "       [3.53847630e-03, 9.96461570e-01],\n",
       "       [9.68187749e-02, 9.03181195e-01],\n",
       "       [3.56184095e-02, 9.64381635e-01],\n",
       "       [5.68235755e-01, 4.31764245e-01],\n",
       "       [8.33506659e-02, 9.16649282e-01],\n",
       "       [1.00000000e+00, 6.64007418e-31],\n",
       "       [3.58947320e-03, 9.96410549e-01],\n",
       "       [1.00000000e+00, 3.02046867e-14],\n",
       "       [9.99999166e-01, 7.85603106e-07],\n",
       "       [1.00000000e+00, 2.81637184e-16],\n",
       "       [9.99841213e-01, 1.58748342e-04],\n",
       "       [9.96724069e-01, 3.27600050e-03]], dtype=float32)"
      ]
     },
     "execution_count": 36,
     "metadata": {},
     "output_type": "execute_result"
    }
   ],
   "source": [
    "y_pred"
   ]
  },
  {
   "cell_type": "code",
   "execution_count": 37,
   "id": "890d9bb7",
   "metadata": {},
   "outputs": [],
   "source": [
    "import numpy as np\n",
    "y_pred = np.argmax(y_pred, axis=1)"
   ]
  },
  {
   "cell_type": "code",
   "execution_count": 38,
   "id": "082a5230",
   "metadata": {},
   "outputs": [
    {
     "data": {
      "text/plain": [
       "array([0, 0, 0, 0, 0, 1, 0, 1, 0, 0, 0, 0, 1, 0, 1, 0, 0, 1, 1, 1, 0, 0,\n",
       "       0, 0, 0, 0, 1, 0, 0, 0, 0, 1, 1, 1, 0, 0, 0, 0, 0, 0, 1, 0, 0, 0,\n",
       "       0, 1, 1, 0, 0, 1, 0, 0, 1, 0, 0, 1, 1, 1, 1, 0, 1, 1, 1, 0, 0, 0,\n",
       "       1, 0, 0, 0, 0, 0, 0, 1, 0, 1, 0, 0, 0, 0, 0, 1, 0, 1, 1, 1, 1, 1,\n",
       "       0, 1, 1, 0, 0, 1, 0, 0, 0, 1, 0, 0, 0, 0, 1, 1, 0, 0, 1, 0, 0, 0,\n",
       "       1, 0, 0, 1, 0, 1, 1, 1, 0, 0, 1, 0, 1, 1, 1, 0, 1, 0, 1, 0, 0, 0,\n",
       "       0, 0], dtype=int64)"
      ]
     },
     "execution_count": 38,
     "metadata": {},
     "output_type": "execute_result"
    }
   ],
   "source": [
    "y_pred"
   ]
  },
  {
   "cell_type": "code",
   "execution_count": 39,
   "id": "c364a195",
   "metadata": {},
   "outputs": [],
   "source": [
    " \n",
    "from tensorflow.keras.models import load_model\n",
    "from tensorflow.keras.preprocessing import image"
   ]
  },
  {
   "cell_type": "code",
   "execution_count": 40,
   "id": "0adf5860",
   "metadata": {},
   "outputs": [],
   "source": [
    "model=load_model('model_vgg19.h5')"
   ]
  },
  {
   "cell_type": "code",
   "execution_count": 46,
   "id": "41d5f630",
   "metadata": {},
   "outputs": [],
   "source": [
    "img=image.load_img('C:/Users/jagad/OneDrive/Desktop/data/Test/Uninfected/2.png',target_size=(224,224))"
   ]
  },
  {
   "cell_type": "code",
   "execution_count": 47,
   "id": "eb0f280e",
   "metadata": {},
   "outputs": [
    {
     "data": {
      "text/plain": [
       "array([[[0., 0., 0.],\n",
       "        [0., 0., 0.],\n",
       "        [0., 0., 0.],\n",
       "        ...,\n",
       "        [0., 0., 0.],\n",
       "        [0., 0., 0.],\n",
       "        [0., 0., 0.]],\n",
       "\n",
       "       [[0., 0., 0.],\n",
       "        [0., 0., 0.],\n",
       "        [0., 0., 0.],\n",
       "        ...,\n",
       "        [0., 0., 0.],\n",
       "        [0., 0., 0.],\n",
       "        [0., 0., 0.]],\n",
       "\n",
       "       [[0., 0., 0.],\n",
       "        [0., 0., 0.],\n",
       "        [0., 0., 0.],\n",
       "        ...,\n",
       "        [0., 0., 0.],\n",
       "        [0., 0., 0.],\n",
       "        [0., 0., 0.]],\n",
       "\n",
       "       ...,\n",
       "\n",
       "       [[0., 0., 0.],\n",
       "        [0., 0., 0.],\n",
       "        [0., 0., 0.],\n",
       "        ...,\n",
       "        [0., 0., 0.],\n",
       "        [0., 0., 0.],\n",
       "        [0., 0., 0.]],\n",
       "\n",
       "       [[0., 0., 0.],\n",
       "        [0., 0., 0.],\n",
       "        [0., 0., 0.],\n",
       "        ...,\n",
       "        [0., 0., 0.],\n",
       "        [0., 0., 0.],\n",
       "        [0., 0., 0.]],\n",
       "\n",
       "       [[0., 0., 0.],\n",
       "        [0., 0., 0.],\n",
       "        [0., 0., 0.],\n",
       "        ...,\n",
       "        [0., 0., 0.],\n",
       "        [0., 0., 0.],\n",
       "        [0., 0., 0.]]], dtype=float32)"
      ]
     },
     "execution_count": 47,
     "metadata": {},
     "output_type": "execute_result"
    }
   ],
   "source": [
    "x=image.img_to_array(img)\n",
    "x\n"
   ]
  },
  {
   "cell_type": "code",
   "execution_count": 48,
   "id": "a9f76cb9",
   "metadata": {},
   "outputs": [
    {
     "data": {
      "text/plain": [
       "(224, 224, 3)"
      ]
     },
     "execution_count": 48,
     "metadata": {},
     "output_type": "execute_result"
    }
   ],
   "source": [
    "x.shape"
   ]
  },
  {
   "cell_type": "code",
   "execution_count": 49,
   "id": "bd0d1c74",
   "metadata": {},
   "outputs": [],
   "source": [
    "x=x/255"
   ]
  },
  {
   "cell_type": "code",
   "execution_count": 50,
   "id": "6a48e966",
   "metadata": {},
   "outputs": [
    {
     "data": {
      "text/plain": [
       "(1, 224, 224, 3)"
      ]
     },
     "execution_count": 50,
     "metadata": {},
     "output_type": "execute_result"
    }
   ],
   "source": [
    "x=np.expand_dims(x,axis=0)\n",
    "img_data=preprocess_input(x)\n",
    "img_data.shape"
   ]
  },
  {
   "cell_type": "code",
   "execution_count": 51,
   "id": "780bc02b",
   "metadata": {},
   "outputs": [
    {
     "name": "stdout",
     "output_type": "stream",
     "text": [
      "1/1 [==============================] - 0s 165ms/step\n"
     ]
    },
    {
     "data": {
      "text/plain": [
       "array([[1., 0.]], dtype=float32)"
      ]
     },
     "execution_count": 51,
     "metadata": {},
     "output_type": "execute_result"
    }
   ],
   "source": [
    "model.predict(img_data)"
   ]
  },
  {
   "cell_type": "code",
   "execution_count": 52,
   "id": "816af7f2",
   "metadata": {},
   "outputs": [
    {
     "name": "stdout",
     "output_type": "stream",
     "text": [
      "1/1 [==============================] - 0s 37ms/step\n"
     ]
    }
   ],
   "source": [
    "a=np.argmax(model.predict(img_data), axis=1)"
   ]
  },
  {
   "cell_type": "code",
   "execution_count": 53,
   "id": "d95625b1",
   "metadata": {},
   "outputs": [
    {
     "name": "stdout",
     "output_type": "stream",
     "text": [
      "Infected\n"
     ]
    }
   ],
   "source": [
    "if(a==1):\n",
    "    print(\"Uninfected\")\n",
    "else:\n",
    "    print(\"Infected\")"
   ]
  },
  {
   "cell_type": "code",
   "execution_count": null,
   "id": "5012d29f",
   "metadata": {},
   "outputs": [],
   "source": []
  }
 ],
 "metadata": {
  "kernelspec": {
   "display_name": "Python 3 (ipykernel)",
   "language": "python",
   "name": "python3"
  },
  "language_info": {
   "codemirror_mode": {
    "name": "ipython",
    "version": 3
   },
   "file_extension": ".py",
   "mimetype": "text/x-python",
   "name": "python",
   "nbconvert_exporter": "python",
   "pygments_lexer": "ipython3",
   "version": "3.10.9"
  }
 },
 "nbformat": 4,
 "nbformat_minor": 5
}
